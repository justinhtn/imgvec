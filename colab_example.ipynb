{
  "nbformat": 4,
  "nbformat_minor": 0,
  "metadata": {
    "colab": {
      "name": "colab_example.ipynb",
      "provenance": [],
      "collapsed_sections": [],
      "toc_visible": true,
      "authorship_tag": "ABX9TyPMqx4/O6jN+LxVq33HOD1Q",
      "include_colab_link": true
    },
    "kernelspec": {
      "name": "python3",
      "display_name": "Python 3"
    }
  },
  "cells": [
    {
      "cell_type": "markdown",
      "metadata": {
        "id": "view-in-github",
        "colab_type": "text"
      },
      "source": [
        "<a href=\"https://colab.research.google.com/github/justinhtn/pixl/blob/master/colab_example.ipynb\" target=\"_parent\"><img src=\"https://colab.research.google.com/assets/colab-badge.svg\" alt=\"Open In Colab\"/></a>"
      ]
    },
    {
      "cell_type": "markdown",
      "metadata": {
        "id": "1ZYBoReSvCUX",
        "colab_type": "text"
      },
      "source": [
        "## Installation"
      ]
    },
    {
      "cell_type": "code",
      "metadata": {
        "id": "1sgVEh0Dq1L5",
        "colab_type": "code",
        "outputId": "e8a9b0ae-f010-40a1-e57f-12d044e3fec3",
        "colab": {
          "base_uri": "https://localhost:8080/",
          "height": 52
        }
      },
      "source": [
        "# installing pixl\n",
        "!pip install pixl"
      ],
      "execution_count": 1,
      "outputs": [
        {
          "output_type": "stream",
          "text": [
            "Looking in indexes: https://test.pypi.org/simple/\n",
            "Requirement already satisfied: pixl==0.1.8.7 in /usr/local/lib/python3.6/dist-packages (0.1.8.7)\n"
          ],
          "name": "stdout"
        }
      ]
    },
    {
      "cell_type": "markdown",
      "metadata": {
        "id": "_xYwx-Z3YtET",
        "colab_type": "text"
      },
      "source": [
        "## Imports"
      ]
    },
    {
      "cell_type": "code",
      "metadata": {
        "id": "LgrmFcxQmkmX",
        "colab_type": "code",
        "colab": {}
      },
      "source": [
        "from pixl.utils import Pixl\n",
        "\n",
        "from sklearn.cluster import KMeans\n",
        "import pandas as pd\n",
        "\n",
        "from shutil import unpack_archive\n",
        "import os"
      ],
      "execution_count": 0,
      "outputs": []
    },
    {
      "cell_type": "markdown",
      "metadata": {
        "id": "dZX5Dyl8YwfG",
        "colab_type": "text"
      },
      "source": [
        "## Load in sample imagery\n",
        "Run the code below to download a zip file of 3 sample dog and 3 sample cat images and unzip them into a newly created 'image' directory. We'll use `unpack_archive` method from `shutil` to unzip the images and load the filenames into a variable called `filenames`."
      ]
    },
    {
      "cell_type": "code",
      "metadata": {
        "id": "2eRm8g6v_W6T",
        "colab_type": "code",
        "outputId": "77d5eeb2-e70f-44b3-c866-32c1e288490e",
        "colab": {
          "base_uri": "https://localhost:8080/",
          "height": 332
        }
      },
      "source": [
        "# grabs sample images zip file from public google drive folder\n",
        "!wget --no-check-certificate 'https://drive.google.com/uc?export=download&id=1VzCf968wZ4zINepB7RtOQlQ3r-uE2GdW' -O 'sample_images.zip'\n",
        "\n",
        "# unzipes downloaded zip file of images\n",
        "unpack_archive('sample_images.zip')\n",
        "\n",
        "# The following removes the __MACOSX folder that is created when a Mac user creates an archive,\n",
        "# the zip file previously unzipped and a .ds_store file that's not needed\n",
        "!rm -rf __MACOSX/ Images/.DS_Store sample_images.zip\n",
        "\n",
        "# setting directory of sample images\n",
        "img_dir = './Images'\n",
        "\n",
        "# grabbing file_names\n",
        "filenames = []\n",
        "for file in os.listdir(img_dir):\n",
        "    filenames.append(os.fsdecode(file))"
      ],
      "execution_count": 4,
      "outputs": [
        {
          "output_type": "stream",
          "text": [
            "--2020-06-01 21:59:34--  https://drive.google.com/uc?export=download&id=1VzCf968wZ4zINepB7RtOQlQ3r-uE2GdW\n",
            "Resolving drive.google.com (drive.google.com)... 64.233.170.113, 64.233.170.138, 64.233.170.101, ...\n",
            "Connecting to drive.google.com (drive.google.com)|64.233.170.113|:443... connected.\n",
            "HTTP request sent, awaiting response... 302 Moved Temporarily\n",
            "Location: https://doc-04-0k-docs.googleusercontent.com/docs/securesc/ha0ro937gcuc7l7deffksulhg5h7mbp1/3heuradhpdsct3arjqhig4p88jitjfuo/1591048725000/07620792070469537524/*/1VzCf968wZ4zINepB7RtOQlQ3r-uE2GdW?e=download [following]\n",
            "Warning: wildcards not supported in HTTP.\n",
            "--2020-06-01 21:59:35--  https://doc-04-0k-docs.googleusercontent.com/docs/securesc/ha0ro937gcuc7l7deffksulhg5h7mbp1/3heuradhpdsct3arjqhig4p88jitjfuo/1591048725000/07620792070469537524/*/1VzCf968wZ4zINepB7RtOQlQ3r-uE2GdW?e=download\n",
            "Resolving doc-04-0k-docs.googleusercontent.com (doc-04-0k-docs.googleusercontent.com)... 173.194.212.132, 2607:f8b0:400c:c11::84\n",
            "Connecting to doc-04-0k-docs.googleusercontent.com (doc-04-0k-docs.googleusercontent.com)|173.194.212.132|:443... connected.\n",
            "HTTP request sent, awaiting response... 200 OK\n",
            "Length: 384437 (375K) [application/zip]\n",
            "Saving to: ‘sample_images.zip’\n",
            "\n",
            "sample_images.zip   100%[===================>] 375.43K  --.-KB/s    in 0.003s  \n",
            "\n",
            "2020-06-01 21:59:35 (129 MB/s) - ‘sample_images.zip’ saved [384437/384437]\n",
            "\n"
          ],
          "name": "stdout"
        }
      ]
    },
    {
      "cell_type": "code",
      "metadata": {
        "id": "toRvfrT4q4-B",
        "colab_type": "code",
        "colab": {}
      },
      "source": [
        "# instantiate a pixl object\n",
        "p_object = Pixl()"
      ],
      "execution_count": 0,
      "outputs": []
    },
    {
      "cell_type": "code",
      "metadata": {
        "id": "3E4Qps9MsD38",
        "colab_type": "code",
        "colab": {}
      },
      "source": [
        "def get_vec(img_dir, filenames):\n",
        "  \"\"\"\n",
        "  Returns a list of vectors and a list of labels.\n",
        "\n",
        "  Args:\n",
        "  filenames (str): string specifying the name of each file.\n",
        "  \n",
        "  Returns:\n",
        "  vectors (lst): list of vectors representing image files.\n",
        "  labels (lst): list of labels taken from file names.\n",
        "  \"\"\"\n",
        "  vectors = []\n",
        "  labels = []\n",
        "\n",
        "  for file in filenames:\n",
        "      vec = p_object.get_vec(img_dir + '/' + file)\n",
        "      vectors.append(vec)\n",
        "      label = file.split('.')[0]\n",
        "      labels.append(label)\n",
        "\n",
        "  return labels, vectors\n",
        "    "
      ],
      "execution_count": 0,
      "outputs": []
    },
    {
      "cell_type": "code",
      "metadata": {
        "id": "2kIGkDRmtdNY",
        "colab_type": "code",
        "colab": {}
      },
      "source": [
        "labels, vectors = get_vec(img_dir, filenames)"
      ],
      "execution_count": 0,
      "outputs": []
    },
    {
      "cell_type": "code",
      "metadata": {
        "id": "MaPVn91etjy-",
        "colab_type": "code",
        "outputId": "fd54b6f1-4c0e-4463-a0e3-99db709a6620",
        "colab": {
          "base_uri": "https://localhost:8080/",
          "height": 34
        }
      },
      "source": [
        "# examining a label and vector\n",
        "print(labels[0], vectors[0])"
      ],
      "execution_count": 21,
      "outputs": [
        {
          "output_type": "stream",
          "text": [
            "cat_2 [0.43513054 0.35954186 0.16742773 ... 0.00338123 0.06258845 0.13982907]\n"
          ],
          "name": "stdout"
        }
      ]
    },
    {
      "cell_type": "markdown",
      "metadata": {
        "id": "hfEL-GXf8i3j",
        "colab_type": "text"
      },
      "source": [
        "# Inspecting vectors"
      ]
    },
    {
      "cell_type": "code",
      "metadata": {
        "id": "h8hlzpgxt00v",
        "colab_type": "code",
        "colab": {}
      },
      "source": [
        "ids = range(len(vectors))\n",
        "img_embedd_df = pd.DataFrame(index = ids)"
      ],
      "execution_count": 0,
      "outputs": []
    },
    {
      "cell_type": "code",
      "metadata": {
        "id": "Ysssk865t_uF",
        "colab_type": "code",
        "colab": {}
      },
      "source": [
        "img_embedd_df['Labels'] = labels\n",
        "img_embedd_df['Vectors'] = vectors"
      ],
      "execution_count": 0,
      "outputs": []
    },
    {
      "cell_type": "code",
      "metadata": {
        "id": "0FQbgOjr8whA",
        "colab_type": "code",
        "colab": {
          "base_uri": "https://localhost:8080/",
          "height": 238
        },
        "outputId": "6e5f2254-96b1-4fac-e01c-9b780cfcaa93"
      },
      "source": [
        "img_embedd_df"
      ],
      "execution_count": 33,
      "outputs": [
        {
          "output_type": "execute_result",
          "data": {
            "text/html": [
              "<div>\n",
              "<style scoped>\n",
              "    .dataframe tbody tr th:only-of-type {\n",
              "        vertical-align: middle;\n",
              "    }\n",
              "\n",
              "    .dataframe tbody tr th {\n",
              "        vertical-align: top;\n",
              "    }\n",
              "\n",
              "    .dataframe thead th {\n",
              "        text-align: right;\n",
              "    }\n",
              "</style>\n",
              "<table border=\"1\" class=\"dataframe\">\n",
              "  <thead>\n",
              "    <tr style=\"text-align: right;\">\n",
              "      <th></th>\n",
              "      <th>Labels</th>\n",
              "      <th>Vectors</th>\n",
              "    </tr>\n",
              "  </thead>\n",
              "  <tbody>\n",
              "    <tr>\n",
              "      <th>0</th>\n",
              "      <td>cat_2</td>\n",
              "      <td>[0.43513054, 0.35954186, 0.16742773, 0.0214593...</td>\n",
              "    </tr>\n",
              "    <tr>\n",
              "      <th>1</th>\n",
              "      <td>dog_2</td>\n",
              "      <td>[0.0, 0.0, 0.019298665, 0.027997738, 0.0, 0.0,...</td>\n",
              "    </tr>\n",
              "    <tr>\n",
              "      <th>2</th>\n",
              "      <td>dog_3</td>\n",
              "      <td>[0.0066078817, 0.15834351, 0.0, 0.16526218, 0....</td>\n",
              "    </tr>\n",
              "    <tr>\n",
              "      <th>3</th>\n",
              "      <td>dog_1</td>\n",
              "      <td>[0.0, 0.5094904, 0.08386931, 0.23145355, 0.0, ...</td>\n",
              "    </tr>\n",
              "    <tr>\n",
              "      <th>4</th>\n",
              "      <td>cat_1</td>\n",
              "      <td>[0.014038057, 0.17216139, 0.19838648, 0.0, 0.1...</td>\n",
              "    </tr>\n",
              "    <tr>\n",
              "      <th>5</th>\n",
              "      <td>cat_3</td>\n",
              "      <td>[0.0128424335, 0.12559828, 0.08193211, 0.0, 0....</td>\n",
              "    </tr>\n",
              "  </tbody>\n",
              "</table>\n",
              "</div>"
            ],
            "text/plain": [
              "  Labels                                            Vectors\n",
              "0  cat_2  [0.43513054, 0.35954186, 0.16742773, 0.0214593...\n",
              "1  dog_2  [0.0, 0.0, 0.019298665, 0.027997738, 0.0, 0.0,...\n",
              "2  dog_3  [0.0066078817, 0.15834351, 0.0, 0.16526218, 0....\n",
              "3  dog_1  [0.0, 0.5094904, 0.08386931, 0.23145355, 0.0, ...\n",
              "4  cat_1  [0.014038057, 0.17216139, 0.19838648, 0.0, 0.1...\n",
              "5  cat_3  [0.0128424335, 0.12559828, 0.08193211, 0.0, 0...."
            ]
          },
          "metadata": {
            "tags": []
          },
          "execution_count": 33
        }
      ]
    },
    {
      "cell_type": "markdown",
      "metadata": {
        "id": "cWZ0Sd4Y9vmS",
        "colab_type": "text"
      },
      "source": [
        "## KMeans Clustering\n",
        "We can do a kmeans clustering fit to our newly generated vectors to see if we can easily seperate the two classes using only the information retained in each vector."
      ]
    },
    {
      "cell_type": "code",
      "metadata": {
        "id": "wPIcDnU4uKVn",
        "colab_type": "code",
        "outputId": "747c97ed-168a-4f0e-f7f7-2c3438f4fbb5",
        "colab": {
          "base_uri": "https://localhost:8080/",
          "height": 69
        }
      },
      "source": [
        "# setting n_clusters to 2 because we know we only want to cluster 2 classes \n",
        "km = KMeans(n_clusters=2)\n",
        "\n",
        "# fitting to the list of vectors from get_vec func\n",
        "km.fit(vectors)\n",
        "\n",
        "# grabbing a list of clusters\n",
        "clusters = km.labels_.tolist()\n",
        "\n",
        "# column cluter for each cluster\n",
        "img_embedd_df[\"Cluster\"] = clusters\n",
        "\n",
        "# displaying counts per cluster \n",
        "print(img_embedd_df['Cluster'].value_counts())"
      ],
      "execution_count": 37,
      "outputs": [
        {
          "output_type": "stream",
          "text": [
            "1    3\n",
            "0    3\n",
            "Name: Cluster, dtype: int64\n"
          ],
          "name": "stdout"
        }
      ]
    },
    {
      "cell_type": "code",
      "metadata": {
        "id": "1hbjJCVUuiFX",
        "colab_type": "code",
        "outputId": "69b9ff66-1aea-42b3-dedd-1fa8dc2ef5b9",
        "colab": {
          "base_uri": "https://localhost:8080/",
          "height": 238
        }
      },
      "source": [
        "# displaying our df to see how we did!\n",
        "display(img_embedd_df)"
      ],
      "execution_count": 36,
      "outputs": [
        {
          "output_type": "display_data",
          "data": {
            "text/html": [
              "<div>\n",
              "<style scoped>\n",
              "    .dataframe tbody tr th:only-of-type {\n",
              "        vertical-align: middle;\n",
              "    }\n",
              "\n",
              "    .dataframe tbody tr th {\n",
              "        vertical-align: top;\n",
              "    }\n",
              "\n",
              "    .dataframe thead th {\n",
              "        text-align: right;\n",
              "    }\n",
              "</style>\n",
              "<table border=\"1\" class=\"dataframe\">\n",
              "  <thead>\n",
              "    <tr style=\"text-align: right;\">\n",
              "      <th></th>\n",
              "      <th>Labels</th>\n",
              "      <th>Vectors</th>\n",
              "      <th>Cluster</th>\n",
              "    </tr>\n",
              "  </thead>\n",
              "  <tbody>\n",
              "    <tr>\n",
              "      <th>0</th>\n",
              "      <td>cat_2</td>\n",
              "      <td>[0.43513054, 0.35954186, 0.16742773, 0.0214593...</td>\n",
              "      <td>0</td>\n",
              "    </tr>\n",
              "    <tr>\n",
              "      <th>1</th>\n",
              "      <td>dog_2</td>\n",
              "      <td>[0.0, 0.0, 0.019298665, 0.027997738, 0.0, 0.0,...</td>\n",
              "      <td>1</td>\n",
              "    </tr>\n",
              "    <tr>\n",
              "      <th>2</th>\n",
              "      <td>dog_3</td>\n",
              "      <td>[0.0066078817, 0.15834351, 0.0, 0.16526218, 0....</td>\n",
              "      <td>1</td>\n",
              "    </tr>\n",
              "    <tr>\n",
              "      <th>3</th>\n",
              "      <td>dog_1</td>\n",
              "      <td>[0.0, 0.5094904, 0.08386931, 0.23145355, 0.0, ...</td>\n",
              "      <td>1</td>\n",
              "    </tr>\n",
              "    <tr>\n",
              "      <th>4</th>\n",
              "      <td>cat_1</td>\n",
              "      <td>[0.014038057, 0.17216139, 0.19838648, 0.0, 0.1...</td>\n",
              "      <td>0</td>\n",
              "    </tr>\n",
              "    <tr>\n",
              "      <th>5</th>\n",
              "      <td>cat_3</td>\n",
              "      <td>[0.0128424335, 0.12559828, 0.08193211, 0.0, 0....</td>\n",
              "      <td>0</td>\n",
              "    </tr>\n",
              "  </tbody>\n",
              "</table>\n",
              "</div>"
            ],
            "text/plain": [
              "  Labels                                            Vectors  Cluster\n",
              "0  cat_2  [0.43513054, 0.35954186, 0.16742773, 0.0214593...        0\n",
              "1  dog_2  [0.0, 0.0, 0.019298665, 0.027997738, 0.0, 0.0,...        1\n",
              "2  dog_3  [0.0066078817, 0.15834351, 0.0, 0.16526218, 0....        1\n",
              "3  dog_1  [0.0, 0.5094904, 0.08386931, 0.23145355, 0.0, ...        1\n",
              "4  cat_1  [0.014038057, 0.17216139, 0.19838648, 0.0, 0.1...        0\n",
              "5  cat_3  [0.0128424335, 0.12559828, 0.08193211, 0.0, 0....        0"
            ]
          },
          "metadata": {
            "tags": []
          }
        }
      ]
    }
  ]
}
